{
 "cells": [
  {
   "cell_type": "code",
   "execution_count": null,
   "id": "6586bae2",
   "metadata": {},
   "outputs": [],
   "source": [
    "import pandas as pd\n",
    "file_csv = r\"C:\\Users\\ezequ\\DOLPH\\Skills Matching\\Embeddings Generation\\filtered_skills_10M_emb_v1.csv\"\n",
    "df = pd.read_csv(file_csv, sep=\",\", header=0, encoding=\"utf-8\")\n",
    "print(\"length of df: \", len(df))\n",
    "print(\"columns: \", df.columns)\n",
    "print(\"empty rows: \", df.isnull().sum().sum())\n",
    "print(\"empty rows in column 'embeddings': \", df['embeddings'].isnull().sum())"
   ]
  },
  {
   "cell_type": "code",
   "execution_count": null,
   "id": "81401735",
   "metadata": {},
   "outputs": [],
   "source": [
    "# convert csv to compressed pickle\n",
    "df.to_pickle(r\"C:\\Users\\ezequ\\DOLPH\\Skills Matching\\Embeddings Generation\\filtered_skills_10M_emb_v1.pkl\", compression='gzip')"
   ]
  }
 ],
 "metadata": {
  "kernelspec": {
   "display_name": "Python 3",
   "language": "python",
   "name": "python3"
  },
  "language_info": {
   "name": "python",
   "version": "3.10.15"
  }
 },
 "nbformat": 4,
 "nbformat_minor": 5
}
